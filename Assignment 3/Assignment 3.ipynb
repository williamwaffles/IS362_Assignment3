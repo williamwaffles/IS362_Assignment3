{
 "cells": [
  {
   "cell_type": "code",
   "execution_count": 7,
   "metadata": {},
   "outputs": [],
   "source": [
    "# Week 3 Assignment\n",
    "## Logging cycling miles from NYC to Key West, FL ~ 1512 miles\n",
    "### https://www.google.com/maps/dir/New+York,+NY/Key+West,+FL+33040/@32.3406075,-87.2570748,5z/data=!3m1!4b1!4m14!4m13!1m5!1m1!1s0x89c24fa5d33f083b:0xc80b8f06e177fe62!2m2!1d-74.0059728!2d40.7127753!1m5!1m1!1s0x88d1b134ad952377:0x3fcee92f77463b5e!2m2!1d-81.7799871!2d24.5550593!3e1\n",
    "\n",
    "#### Import Pandas\n",
    "import pandas as pd\n",
    "#### Import Random\n",
    "import random"
   ]
  },
  {
   "cell_type": "code",
   "execution_count": 2,
   "metadata": {},
   "outputs": [],
   "source": [
    "### Create empty list\n",
    "data = []\n",
    "\n",
    "### Create function that randomly generates daily mileage\n",
    "def log_mileage():\n",
    "    mileage = 0\n",
    "    while mileage <= 1512:\n",
    "        x = random.randint(20,60)\n",
    "        mileage = x + mileage\n",
    "        data.append(mileage)"
   ]
  },
  {
   "cell_type": "code",
   "execution_count": 3,
   "metadata": {},
   "outputs": [
    {
     "name": "stdout",
     "output_type": "stream",
     "text": [
      "[54, 93, 117, 162, 216, 268, 318, 357, 417, 450, 488, 509, 545, 572, 620, 645, 690, 737, 796, 835, 876, 925, 968, 996, 1019, 1050, 1110, 1140, 1165, 1185, 1241, 1272, 1318, 1340, 1386, 1441, 1498, 1531]\n"
     ]
    }
   ],
   "source": [
    "#### Run mileage function\n",
    "log_mileage()\n",
    "print(data)"
   ]
  },
  {
   "cell_type": "code",
   "execution_count": 4,
   "metadata": {},
   "outputs": [
    {
     "name": "stdout",
     "output_type": "stream",
     "text": [
      "    Cumulative end of Day Mileage\n",
      "0                              54\n",
      "1                              93\n",
      "2                             117\n",
      "3                             162\n",
      "4                             216\n",
      "5                             268\n",
      "6                             318\n",
      "7                             357\n",
      "8                             417\n",
      "9                             450\n",
      "10                            488\n",
      "11                            509\n",
      "12                            545\n",
      "13                            572\n",
      "14                            620\n",
      "15                            645\n",
      "16                            690\n",
      "17                            737\n",
      "18                            796\n",
      "19                            835\n",
      "20                            876\n",
      "21                            925\n",
      "22                            968\n",
      "23                            996\n",
      "24                           1019\n",
      "25                           1050\n",
      "26                           1110\n",
      "27                           1140\n",
      "28                           1165\n",
      "29                           1185\n",
      "30                           1241\n",
      "31                           1272\n",
      "32                           1318\n",
      "33                           1340\n",
      "34                           1386\n",
      "35                           1441\n",
      "36                           1498\n",
      "37                           1531\n"
     ]
    }
   ],
   "source": [
    "### Turn new list of data into a Data Frame\n",
    "df = pd.DataFrame(data)\n",
    "df.columns = ['Cumulative end of Day Mileage']\n",
    "#### print cumulative end of day mileage DataFrame\n",
    "print(df)"
   ]
  },
  {
   "cell_type": "code",
   "execution_count": 5,
   "metadata": {},
   "outputs": [
    {
     "name": "stdout",
     "output_type": "stream",
     "text": [
      "39\n",
      "24\n",
      "45\n",
      "54\n",
      "52\n",
      "50\n",
      "39\n",
      "60\n",
      "33\n",
      "38\n",
      "21\n",
      "36\n",
      "27\n",
      "48\n",
      "25\n",
      "45\n",
      "47\n",
      "59\n",
      "39\n",
      "41\n",
      "49\n",
      "43\n",
      "28\n",
      "23\n",
      "31\n",
      "60\n",
      "30\n",
      "25\n",
      "20\n",
      "56\n",
      "31\n",
      "46\n",
      "22\n",
      "46\n",
      "55\n",
      "57\n",
      "33\n"
     ]
    }
   ],
   "source": [
    "### Calculating daily mileage\n",
    "\n",
    "z = 0\n",
    "data2 = []\n",
    "for x in data:\n",
    "    try:\n",
    "        z = z + 1\n",
    "        num = data[z]\n",
    "        print(num - x)\n",
    "        miles_per_day = num - x\n",
    "        data2.append(miles_per_day)\n",
    "    except Exception:\n",
    "        continue"
   ]
  },
  {
   "cell_type": "markdown",
   "metadata": {},
   "source": [
    "<div class=\"alert alert-block alert-warning\">\n",
    "<b>Note:</b> Kept hitting list index out of range error at num = data[z]. Pushed through via exception handling\n",
    "</div>"
   ]
  },
  {
   "cell_type": "code",
   "execution_count": 6,
   "metadata": {},
   "outputs": [
    {
     "name": "stdout",
     "output_type": "stream",
     "text": [
      "    Daily mileage\n",
      "0              39\n",
      "1              24\n",
      "2              45\n",
      "3              54\n",
      "4              52\n",
      "5              50\n",
      "6              39\n",
      "7              60\n",
      "8              33\n",
      "9              38\n",
      "10             21\n",
      "11             36\n",
      "12             27\n",
      "13             48\n",
      "14             25\n",
      "15             45\n",
      "16             47\n",
      "17             59\n",
      "18             39\n",
      "19             41\n",
      "20             49\n",
      "21             43\n",
      "22             28\n",
      "23             23\n",
      "24             31\n",
      "25             60\n",
      "26             30\n",
      "27             25\n",
      "28             20\n",
      "29             56\n",
      "30             31\n",
      "31             46\n",
      "32             22\n",
      "33             46\n",
      "34             55\n",
      "35             57\n",
      "36             33\n"
     ]
    }
   ],
   "source": [
    "### Turn the calculated daily mileage into a Data Frame\n",
    "df2 = pd.DataFrame(data2)\n",
    "df2.columns = ['Daily mileage']\n",
    "### print Daily mileage DataFrame\n",
    "print(df2)"
   ]
  },
  {
   "cell_type": "code",
   "execution_count": null,
   "metadata": {},
   "outputs": [],
   "source": []
  }
 ],
 "metadata": {
  "kernelspec": {
   "display_name": "Python 3",
   "language": "python",
   "name": "python3"
  },
  "language_info": {
   "codemirror_mode": {
    "name": "ipython",
    "version": 3
   },
   "file_extension": ".py",
   "mimetype": "text/x-python",
   "name": "python",
   "nbconvert_exporter": "python",
   "pygments_lexer": "ipython3",
   "version": "3.7.6"
  }
 },
 "nbformat": 4,
 "nbformat_minor": 4
}
