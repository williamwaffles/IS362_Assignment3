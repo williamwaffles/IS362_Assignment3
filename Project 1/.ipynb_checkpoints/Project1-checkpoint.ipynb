{
 "cells": [
  {
   "cell_type": "code",
   "execution_count": 2,
   "metadata": {},
   "outputs": [
    {
     "name": "stdout",
     "output_type": "stream",
     "text": [
      "            city  alaska_on_time  alaska_delay  amwest_on_time  am_west_delay\n",
      "0    Los Angeles             497            62             694            117\n",
      "1        Pheonix             221            12            4840            415\n",
      "2      San Diego             212            20             383             65\n",
      "3  San Francisco             503           102             320            129\n",
      "4        Seattle            1841           305             201             61\n"
     ]
    }
   ],
   "source": [
    "# IS 362 – Project 1\n",
    "\n",
    "### 1. Create a .CSV file (or optionally, a MySQL database!) that includes all of the information below. You may change the structure of the information as you like.\n",
    "### 2. Read the information from your .CSV file into pandas, and perform analysis to compare the arrival delays for the two airlines.\n",
    "### 3. Your code should be in a Jupyter (IPython) notebook (in GitHub), and should include narrative descriptions of your analysis and conclusions.\n",
    "\n",
    "#### import pandas\n",
    "import pandas as pd\n",
    "\n",
    "#### set simple variable for .csv file\n",
    "data = 'week_3_data.csv'\n",
    "\n",
    "#### read .csv data\n",
    "df = pd.read_csv(data)\n",
    "\n",
    "#### prints dataframe\n",
    "print(df)"
   ]
  },
  {
   "cell_type": "code",
   "execution_count": 3,
   "metadata": {},
   "outputs": [],
   "source": [
    "#### adds alaska_total column, totaling all flights for all 5 departure cities on Alaska Air\n",
    "\n",
    "df['alaska_total'] = df['alaska_on_time'] + df['alaska_delay']\n",
    "\n",
    "#### adds alaska_percent_delay column, calculating the percentage of delayed flights for all 5 departure cities on Alaska Air\n",
    "\n",
    "df['alaska_percent_delay'] = (df['alaska_delay'] / df['alaska_total']) * 100\n",
    "\n",
    "#### rounds alaska_percent_delay to 2 decimal places\n",
    "\n",
    "df['alaska_percent_delay'] = df['alaska_percent_delay'].round(decimals=2)\n",
    "\n",
    "#### adds amwest_total column, totaling all flights for all 5 departure cities on AM West\n",
    "\n",
    "df['amwest_total'] = df['amwest_on_time'] + df['am_west_delay']\n",
    "\n",
    "#### adds amwest_percent_delay column, calculating the percentage of delayed flights for all 5 departure cities on AM West\n",
    "\n",
    "df['amwest_percent_delay'] = (df['am_west_delay'] / df['amwest_total']) * 100\n",
    "\n",
    "#### rounds amwest_percent_delay to 2 decimal places\n",
    "\n",
    "df['amwest_percent_delay'] = df['amwest_percent_delay'].round(decimals=2)"
   ]
  },
  {
   "cell_type": "code",
   "execution_count": 4,
   "metadata": {},
   "outputs": [
    {
     "name": "stdout",
     "output_type": "stream",
     "text": [
      "            city  alaska_on_time  alaska_delay  amwest_on_time  am_west_delay  \\\n",
      "0    Los Angeles             497            62             694            117   \n",
      "1        Pheonix             221            12            4840            415   \n",
      "2      San Diego             212            20             383             65   \n",
      "3  San Francisco             503           102             320            129   \n",
      "4        Seattle            1841           305             201             61   \n",
      "\n",
      "   alaska_total  alaska_percent_delay  amwest_total  amwest_percent_delay  \n",
      "0           559                 11.09           811                 14.43  \n",
      "1           233                  5.15          5255                  7.90  \n",
      "2           232                  8.62           448                 14.51  \n",
      "3           605                 16.86           449                 28.73  \n",
      "4          2146                 14.21           262                 23.28  \n"
     ]
    }
   ],
   "source": [
    "#### prints updated dataframe\n",
    "print(df)"
   ]
  },
  {
   "cell_type": "code",
   "execution_count": 5,
   "metadata": {},
   "outputs": [
    {
     "name": "stdout",
     "output_type": "stream",
     "text": [
      "   alaska_percent_delay  amwest_percent_delay\n",
      "0                 11.09                 14.43\n",
      "1                  5.15                  7.90\n",
      "2                  8.62                 14.51\n",
      "3                 16.86                 28.73\n",
      "4                 14.21                 23.28\n"
     ]
    }
   ],
   "source": [
    "#### quick side by side comparison of percent delays of Alaska and AM West airlines\n",
    "\n",
    "print(df[['alaska_percent_delay', 'amwest_percent_delay']])"
   ]
  },
  {
   "cell_type": "code",
   "execution_count": 6,
   "metadata": {},
   "outputs": [
    {
     "name": "stdout",
     "output_type": "stream",
     "text": [
      "0    AM WEST\n",
      "1    AM WEST\n",
      "2    AM WEST\n",
      "3    AM WEST\n",
      "4    AM WEST\n",
      "Name: higher_percent_delays, dtype: object\n"
     ]
    }
   ],
   "source": [
    "#### analyzes the airline with higher percentage of delays\n",
    "\n",
    "for x, y in df.iterrows():\n",
    "    if y['alaska_percent_delay'] < y['amwest_percent_delay']:\n",
    "        df.loc[x, 'higher_percent_delays'] = 'AM WEST'\n",
    "    else:\n",
    "        df.loc[x, 'higher_percent_delays'] = 'ALASKA'\n",
    "        \n",
    "#### printout of higher_percent_delays        \n",
    "\n",
    "print(df['higher_percent_delays'])"
   ]
  },
  {
   "cell_type": "code",
   "execution_count": 7,
   "metadata": {},
   "outputs": [
    {
     "name": "stdout",
     "output_type": "stream",
     "text": [
      "654.8 : mean on time Alaska flights\n",
      "100.2 : mean delayed Alaska flights\n",
      "1287.6 : mean on time AM West flights\n",
      "157.4 : mean delayed AM West flights\n"
     ]
    }
   ],
   "source": [
    "#### mean of alaska flights on time\n",
    "\n",
    "alaska_on_time_mean = df['alaska_on_time'].mean()\n",
    "\n",
    "print(alaska_on_time_mean, ': mean on time Alaska flights')\n",
    "\n",
    "#### mean of alaska flights delayed\n",
    "\n",
    "alaska_delay_mean = df['alaska_delay'].mean()\n",
    "\n",
    "print(alaska_delay_mean, ': mean delayed Alaska flights')\n",
    "\n",
    "#### mean of am west flights on time\n",
    "\n",
    "amwest_on_time_mean = df['amwest_on_time'].mean()\n",
    "\n",
    "print(amwest_on_time_mean, ': mean on time AM West flights')\n",
    "\n",
    "#### mean of am west flights delays\n",
    "\n",
    "amwest_delay_mean = df['am_west_delay'].mean()\n",
    "\n",
    "print(amwest_delay_mean, ': mean delayed AM West flights')\n",
    "\n",
    "#### After reviewing both percent delays AND mean values of delays and on time flight data we can conclude that though AM WEST has a higher percentage of delayed flights AM WEST also has a higher mean of on time flights"
   ]
  }
 ],
 "metadata": {
  "kernelspec": {
   "display_name": "Python 3",
   "language": "python",
   "name": "python3"
  },
  "language_info": {
   "codemirror_mode": {
    "name": "ipython",
    "version": 3
   },
   "file_extension": ".py",
   "mimetype": "text/x-python",
   "name": "python",
   "nbconvert_exporter": "python",
   "pygments_lexer": "ipython3",
   "version": "3.7.6"
  }
 },
 "nbformat": 4,
 "nbformat_minor": 4
}
